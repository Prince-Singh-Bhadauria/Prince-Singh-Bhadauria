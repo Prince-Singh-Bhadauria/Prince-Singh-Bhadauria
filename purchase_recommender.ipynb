{
 "cells": [
  {
   "cell_type": "code",
   "execution_count": 1,
   "metadata": {},
   "outputs": [],
   "source": [
    "import pandas as pd\n",
    "import numpy as np\n",
    "import datetime\n",
    "import time"
   ]
  },
  {
   "cell_type": "code",
   "execution_count": 2,
   "metadata": {},
   "outputs": [],
   "source": [
    "import matplotlib.pyplot as plt\n",
    "import seaborn as sns\n",
    "%matplotlib inline"
   ]
  },
  {
   "cell_type": "markdown",
   "metadata": {},
   "source": [
    "# knowing the data"
   ]
  },
  {
   "cell_type": "code",
   "execution_count": 3,
   "metadata": {},
   "outputs": [
    {
     "data": {
      "text/html": [
       "<div>\n",
       "<style scoped>\n",
       "    .dataframe tbody tr th:only-of-type {\n",
       "        vertical-align: middle;\n",
       "    }\n",
       "\n",
       "    .dataframe tbody tr th {\n",
       "        vertical-align: top;\n",
       "    }\n",
       "\n",
       "    .dataframe thead th {\n",
       "        text-align: right;\n",
       "    }\n",
       "</style>\n",
       "<table border=\"1\" class=\"dataframe\">\n",
       "  <thead>\n",
       "    <tr style=\"text-align: right;\">\n",
       "      <th></th>\n",
       "      <th>timestamp</th>\n",
       "      <th>visitorid</th>\n",
       "      <th>event</th>\n",
       "      <th>itemid</th>\n",
       "      <th>transactionid</th>\n",
       "    </tr>\n",
       "  </thead>\n",
       "  <tbody>\n",
       "    <tr>\n",
       "      <th>0</th>\n",
       "      <td>1433221332117</td>\n",
       "      <td>257597</td>\n",
       "      <td>view</td>\n",
       "      <td>355908</td>\n",
       "      <td>NaN</td>\n",
       "    </tr>\n",
       "    <tr>\n",
       "      <th>1</th>\n",
       "      <td>1433224214164</td>\n",
       "      <td>992329</td>\n",
       "      <td>view</td>\n",
       "      <td>248676</td>\n",
       "      <td>NaN</td>\n",
       "    </tr>\n",
       "    <tr>\n",
       "      <th>2</th>\n",
       "      <td>1433221999827</td>\n",
       "      <td>111016</td>\n",
       "      <td>view</td>\n",
       "      <td>318965</td>\n",
       "      <td>NaN</td>\n",
       "    </tr>\n",
       "    <tr>\n",
       "      <th>3</th>\n",
       "      <td>1433221955914</td>\n",
       "      <td>483717</td>\n",
       "      <td>view</td>\n",
       "      <td>253185</td>\n",
       "      <td>NaN</td>\n",
       "    </tr>\n",
       "    <tr>\n",
       "      <th>4</th>\n",
       "      <td>1433221337106</td>\n",
       "      <td>951259</td>\n",
       "      <td>view</td>\n",
       "      <td>367447</td>\n",
       "      <td>NaN</td>\n",
       "    </tr>\n",
       "    <tr>\n",
       "      <th>...</th>\n",
       "      <td>...</td>\n",
       "      <td>...</td>\n",
       "      <td>...</td>\n",
       "      <td>...</td>\n",
       "      <td>...</td>\n",
       "    </tr>\n",
       "    <tr>\n",
       "      <th>2756096</th>\n",
       "      <td>1438398785939</td>\n",
       "      <td>591435</td>\n",
       "      <td>view</td>\n",
       "      <td>261427</td>\n",
       "      <td>NaN</td>\n",
       "    </tr>\n",
       "    <tr>\n",
       "      <th>2756097</th>\n",
       "      <td>1438399813142</td>\n",
       "      <td>762376</td>\n",
       "      <td>view</td>\n",
       "      <td>115946</td>\n",
       "      <td>NaN</td>\n",
       "    </tr>\n",
       "    <tr>\n",
       "      <th>2756098</th>\n",
       "      <td>1438397820527</td>\n",
       "      <td>1251746</td>\n",
       "      <td>view</td>\n",
       "      <td>78144</td>\n",
       "      <td>NaN</td>\n",
       "    </tr>\n",
       "    <tr>\n",
       "      <th>2756099</th>\n",
       "      <td>1438398530703</td>\n",
       "      <td>1184451</td>\n",
       "      <td>view</td>\n",
       "      <td>283392</td>\n",
       "      <td>NaN</td>\n",
       "    </tr>\n",
       "    <tr>\n",
       "      <th>2756100</th>\n",
       "      <td>1438400163914</td>\n",
       "      <td>199536</td>\n",
       "      <td>view</td>\n",
       "      <td>152913</td>\n",
       "      <td>NaN</td>\n",
       "    </tr>\n",
       "  </tbody>\n",
       "</table>\n",
       "<p>2756101 rows × 5 columns</p>\n",
       "</div>"
      ],
      "text/plain": [
       "             timestamp  visitorid event  itemid  transactionid\n",
       "0        1433221332117     257597  view  355908            NaN\n",
       "1        1433224214164     992329  view  248676            NaN\n",
       "2        1433221999827     111016  view  318965            NaN\n",
       "3        1433221955914     483717  view  253185            NaN\n",
       "4        1433221337106     951259  view  367447            NaN\n",
       "...                ...        ...   ...     ...            ...\n",
       "2756096  1438398785939     591435  view  261427            NaN\n",
       "2756097  1438399813142     762376  view  115946            NaN\n",
       "2756098  1438397820527    1251746  view   78144            NaN\n",
       "2756099  1438398530703    1184451  view  283392            NaN\n",
       "2756100  1438400163914     199536  view  152913            NaN\n",
       "\n",
       "[2756101 rows x 5 columns]"
      ]
     },
     "execution_count": 3,
     "metadata": {},
     "output_type": "execute_result"
    }
   ],
   "source": [
    "events_df = pd.read_csv('events.csv')\n",
    "events_df"
   ]
  },
  {
   "cell_type": "code",
   "execution_count": 4,
   "metadata": {},
   "outputs": [
    {
     "data": {
      "text/plain": [
       "Index(['timestamp', 'visitorid', 'event', 'itemid', 'transactionid'], dtype='object')"
      ]
     },
     "execution_count": 4,
     "metadata": {},
     "output_type": "execute_result"
    }
   ],
   "source": [
    "events_df.keys()"
   ]
  },
  {
   "cell_type": "code",
   "execution_count": 5,
   "metadata": {},
   "outputs": [
    {
     "data": {
      "text/plain": [
       "array(['view', 'addtocart', 'transaction'], dtype=object)"
      ]
     },
     "execution_count": 5,
     "metadata": {},
     "output_type": "execute_result"
    }
   ],
   "source": [
    "events_df['event'].unique()"
   ]
  },
  {
   "cell_type": "code",
   "execution_count": 6,
   "metadata": {},
   "outputs": [
    {
     "data": {
      "text/plain": [
       "array([ 599528,  121688,  552148, ..., 1155978, 1050575,  855941])"
      ]
     },
     "execution_count": 6,
     "metadata": {},
     "output_type": "execute_result"
    }
   ],
   "source": [
    "events_df[events_df.transactionid.notnull()].visitorid.unique()    "
   ]
  },
  {
   "cell_type": "markdown",
   "metadata": {},
   "source": [
    "visitorid of thoes visitors who made transactions "
   ]
  },
  {
   "cell_type": "code",
   "execution_count": 7,
   "metadata": {},
   "outputs": [
    {
     "data": {
      "text/plain": [
       "array(['transaction'], dtype=object)"
      ]
     },
     "execution_count": 7,
     "metadata": {},
     "output_type": "execute_result"
    }
   ],
   "source": [
    "events_df[events_df.transactionid.notnull()].event.unique()"
   ]
  },
  {
   "cell_type": "markdown",
   "metadata": {},
   "source": [
    "'transaction' is recorded in event, whenever transactionid(purchase) is created"
   ]
  },
  {
   "cell_type": "code",
   "execution_count": 8,
   "metadata": {},
   "outputs": [],
   "source": [
    "category_df = pd.read_csv('category_tree.csv')"
   ]
  },
  {
   "cell_type": "code",
   "execution_count": 9,
   "metadata": {},
   "outputs": [
    {
     "data": {
      "text/html": [
       "<div>\n",
       "<style scoped>\n",
       "    .dataframe tbody tr th:only-of-type {\n",
       "        vertical-align: middle;\n",
       "    }\n",
       "\n",
       "    .dataframe tbody tr th {\n",
       "        vertical-align: top;\n",
       "    }\n",
       "\n",
       "    .dataframe thead th {\n",
       "        text-align: right;\n",
       "    }\n",
       "</style>\n",
       "<table border=\"1\" class=\"dataframe\">\n",
       "  <thead>\n",
       "    <tr style=\"text-align: right;\">\n",
       "      <th></th>\n",
       "      <th>categoryid</th>\n",
       "      <th>parentid</th>\n",
       "    </tr>\n",
       "  </thead>\n",
       "  <tbody>\n",
       "    <tr>\n",
       "      <th>0</th>\n",
       "      <td>1016</td>\n",
       "      <td>213.0</td>\n",
       "    </tr>\n",
       "    <tr>\n",
       "      <th>1</th>\n",
       "      <td>809</td>\n",
       "      <td>169.0</td>\n",
       "    </tr>\n",
       "    <tr>\n",
       "      <th>2</th>\n",
       "      <td>570</td>\n",
       "      <td>9.0</td>\n",
       "    </tr>\n",
       "    <tr>\n",
       "      <th>3</th>\n",
       "      <td>1691</td>\n",
       "      <td>885.0</td>\n",
       "    </tr>\n",
       "    <tr>\n",
       "      <th>4</th>\n",
       "      <td>536</td>\n",
       "      <td>1691.0</td>\n",
       "    </tr>\n",
       "    <tr>\n",
       "      <th>...</th>\n",
       "      <td>...</td>\n",
       "      <td>...</td>\n",
       "    </tr>\n",
       "    <tr>\n",
       "      <th>1664</th>\n",
       "      <td>49</td>\n",
       "      <td>1125.0</td>\n",
       "    </tr>\n",
       "    <tr>\n",
       "      <th>1665</th>\n",
       "      <td>1112</td>\n",
       "      <td>630.0</td>\n",
       "    </tr>\n",
       "    <tr>\n",
       "      <th>1666</th>\n",
       "      <td>1336</td>\n",
       "      <td>745.0</td>\n",
       "    </tr>\n",
       "    <tr>\n",
       "      <th>1667</th>\n",
       "      <td>689</td>\n",
       "      <td>207.0</td>\n",
       "    </tr>\n",
       "    <tr>\n",
       "      <th>1668</th>\n",
       "      <td>761</td>\n",
       "      <td>395.0</td>\n",
       "    </tr>\n",
       "  </tbody>\n",
       "</table>\n",
       "<p>1669 rows × 2 columns</p>\n",
       "</div>"
      ],
      "text/plain": [
       "      categoryid  parentid\n",
       "0           1016     213.0\n",
       "1            809     169.0\n",
       "2            570       9.0\n",
       "3           1691     885.0\n",
       "4            536    1691.0\n",
       "...          ...       ...\n",
       "1664          49    1125.0\n",
       "1665        1112     630.0\n",
       "1666        1336     745.0\n",
       "1667         689     207.0\n",
       "1668         761     395.0\n",
       "\n",
       "[1669 rows x 2 columns]"
      ]
     },
     "execution_count": 9,
     "metadata": {},
     "output_type": "execute_result"
    }
   ],
   "source": [
    "category_df"
   ]
  },
  {
   "cell_type": "markdown",
   "metadata": {},
   "source": [
    "Categoryid explain the relationship of different products with each other, like categoryid 1016 is a child of parentid 213."
   ]
  },
  {
   "cell_type": "code",
   "execution_count": 10,
   "metadata": {},
   "outputs": [],
   "source": [
    "item_properties_1_df = pd.read_csv('item_properties_part1.csv')"
   ]
  },
  {
   "cell_type": "code",
   "execution_count": 11,
   "metadata": {},
   "outputs": [
    {
     "data": {
      "text/html": [
       "<div>\n",
       "<style scoped>\n",
       "    .dataframe tbody tr th:only-of-type {\n",
       "        vertical-align: middle;\n",
       "    }\n",
       "\n",
       "    .dataframe tbody tr th {\n",
       "        vertical-align: top;\n",
       "    }\n",
       "\n",
       "    .dataframe thead th {\n",
       "        text-align: right;\n",
       "    }\n",
       "</style>\n",
       "<table border=\"1\" class=\"dataframe\">\n",
       "  <thead>\n",
       "    <tr style=\"text-align: right;\">\n",
       "      <th></th>\n",
       "      <th>timestamp</th>\n",
       "      <th>itemid</th>\n",
       "      <th>property</th>\n",
       "      <th>value</th>\n",
       "    </tr>\n",
       "  </thead>\n",
       "  <tbody>\n",
       "    <tr>\n",
       "      <th>0</th>\n",
       "      <td>1435460400000</td>\n",
       "      <td>460429</td>\n",
       "      <td>categoryid</td>\n",
       "      <td>1338</td>\n",
       "    </tr>\n",
       "    <tr>\n",
       "      <th>1</th>\n",
       "      <td>1441508400000</td>\n",
       "      <td>206783</td>\n",
       "      <td>888</td>\n",
       "      <td>1116713 960601 n277.200</td>\n",
       "    </tr>\n",
       "    <tr>\n",
       "      <th>2</th>\n",
       "      <td>1439089200000</td>\n",
       "      <td>395014</td>\n",
       "      <td>400</td>\n",
       "      <td>n552.000 639502 n720.000 424566</td>\n",
       "    </tr>\n",
       "    <tr>\n",
       "      <th>3</th>\n",
       "      <td>1431226800000</td>\n",
       "      <td>59481</td>\n",
       "      <td>790</td>\n",
       "      <td>n15360.000</td>\n",
       "    </tr>\n",
       "    <tr>\n",
       "      <th>4</th>\n",
       "      <td>1431831600000</td>\n",
       "      <td>156781</td>\n",
       "      <td>917</td>\n",
       "      <td>828513</td>\n",
       "    </tr>\n",
       "    <tr>\n",
       "      <th>...</th>\n",
       "      <td>...</td>\n",
       "      <td>...</td>\n",
       "      <td>...</td>\n",
       "      <td>...</td>\n",
       "    </tr>\n",
       "    <tr>\n",
       "      <th>10999994</th>\n",
       "      <td>1439694000000</td>\n",
       "      <td>86599</td>\n",
       "      <td>categoryid</td>\n",
       "      <td>618</td>\n",
       "    </tr>\n",
       "    <tr>\n",
       "      <th>10999995</th>\n",
       "      <td>1435460400000</td>\n",
       "      <td>153032</td>\n",
       "      <td>1066</td>\n",
       "      <td>n1020.000 424566</td>\n",
       "    </tr>\n",
       "    <tr>\n",
       "      <th>10999996</th>\n",
       "      <td>1440298800000</td>\n",
       "      <td>421788</td>\n",
       "      <td>888</td>\n",
       "      <td>35975 856003 37346</td>\n",
       "    </tr>\n",
       "    <tr>\n",
       "      <th>10999997</th>\n",
       "      <td>1437879600000</td>\n",
       "      <td>159792</td>\n",
       "      <td>400</td>\n",
       "      <td>n552.000 639502 n720.000 424566</td>\n",
       "    </tr>\n",
       "    <tr>\n",
       "      <th>10999998</th>\n",
       "      <td>1436065200000</td>\n",
       "      <td>464846</td>\n",
       "      <td>790</td>\n",
       "      <td>n410640.000</td>\n",
       "    </tr>\n",
       "  </tbody>\n",
       "</table>\n",
       "<p>10999999 rows × 4 columns</p>\n",
       "</div>"
      ],
      "text/plain": [
       "              timestamp  itemid    property                            value\n",
       "0         1435460400000  460429  categoryid                             1338\n",
       "1         1441508400000  206783         888          1116713 960601 n277.200\n",
       "2         1439089200000  395014         400  n552.000 639502 n720.000 424566\n",
       "3         1431226800000   59481         790                       n15360.000\n",
       "4         1431831600000  156781         917                           828513\n",
       "...                 ...     ...         ...                              ...\n",
       "10999994  1439694000000   86599  categoryid                              618\n",
       "10999995  1435460400000  153032        1066                 n1020.000 424566\n",
       "10999996  1440298800000  421788         888               35975 856003 37346\n",
       "10999997  1437879600000  159792         400  n552.000 639502 n720.000 424566\n",
       "10999998  1436065200000  464846         790                      n410640.000\n",
       "\n",
       "[10999999 rows x 4 columns]"
      ]
     },
     "execution_count": 11,
     "metadata": {},
     "output_type": "execute_result"
    }
   ],
   "source": [
    "item_properties_1_df"
   ]
  },
  {
   "cell_type": "markdown",
   "metadata": {},
   "source": [
    "timestamp is still the same Unix format.\n",
    "\n",
    "itemid is the unique item identifier.\n",
    "\n",
    "Property is the Item's attributes such as category id and availability while the rest are hashed for confidentiality purposes.\n",
    "\n",
    "Value is the item's property value like availability(one of the properties) is 1 if there is stock and 0 otherwise."
   ]
  },
  {
   "cell_type": "code",
   "execution_count": 12,
   "metadata": {},
   "outputs": [
    {
     "data": {
      "text/html": [
       "<div>\n",
       "<style scoped>\n",
       "    .dataframe tbody tr th:only-of-type {\n",
       "        vertical-align: middle;\n",
       "    }\n",
       "\n",
       "    .dataframe tbody tr th {\n",
       "        vertical-align: top;\n",
       "    }\n",
       "\n",
       "    .dataframe thead th {\n",
       "        text-align: right;\n",
       "    }\n",
       "</style>\n",
       "<table border=\"1\" class=\"dataframe\">\n",
       "  <thead>\n",
       "    <tr style=\"text-align: right;\">\n",
       "      <th></th>\n",
       "      <th>timestamp</th>\n",
       "      <th>itemid</th>\n",
       "      <th>property</th>\n",
       "      <th>value</th>\n",
       "    </tr>\n",
       "  </thead>\n",
       "  <tbody>\n",
       "    <tr>\n",
       "      <th>8582420</th>\n",
       "      <td>1431226800000</td>\n",
       "      <td>123973</td>\n",
       "      <td>categoryid</td>\n",
       "      <td>618</td>\n",
       "    </tr>\n",
       "    <tr>\n",
       "      <th>4818247</th>\n",
       "      <td>1431226800000</td>\n",
       "      <td>413487</td>\n",
       "      <td>categoryid</td>\n",
       "      <td>618</td>\n",
       "    </tr>\n",
       "    <tr>\n",
       "      <th>2842000</th>\n",
       "      <td>1431226800000</td>\n",
       "      <td>268139</td>\n",
       "      <td>categoryid</td>\n",
       "      <td>618</td>\n",
       "    </tr>\n",
       "    <tr>\n",
       "      <th>9943275</th>\n",
       "      <td>1431226800000</td>\n",
       "      <td>146905</td>\n",
       "      <td>categoryid</td>\n",
       "      <td>618</td>\n",
       "    </tr>\n",
       "    <tr>\n",
       "      <th>5769012</th>\n",
       "      <td>1431226800000</td>\n",
       "      <td>451095</td>\n",
       "      <td>categoryid</td>\n",
       "      <td>618</td>\n",
       "    </tr>\n",
       "  </tbody>\n",
       "</table>\n",
       "</div>"
      ],
      "text/plain": [
       "             timestamp  itemid    property value\n",
       "8582420  1431226800000  123973  categoryid   618\n",
       "4818247  1431226800000  413487  categoryid   618\n",
       "2842000  1431226800000  268139  categoryid   618\n",
       "9943275  1431226800000  146905  categoryid   618\n",
       "5769012  1431226800000  451095  categoryid   618"
      ]
     },
     "execution_count": 12,
     "metadata": {},
     "output_type": "execute_result"
    }
   ],
   "source": [
    "item_properties_1_df.loc[(item_properties_1_df.property == 'categoryid') & (item_properties_1_df.value == '618')].sort_values('timestamp').head()"
   ]
  },
  {
   "cell_type": "markdown",
   "metadata": {},
   "source": [
    "above is the number of items under category id 618."
   ]
  },
  {
   "cell_type": "markdown",
   "metadata": {},
   "source": [
    "# Customer Behaviour Exploration\n",
    "Its good to categorise coustomers in (a) how made transactions, (b) thoes who do not made transaxtion."
   ]
  },
  {
   "cell_type": "code",
   "execution_count": 13,
   "metadata": {},
   "outputs": [],
   "source": [
    "# all customers who made transaction.\n",
    "customer_purchased = events_df[events_df.transactionid.notnull()].visitorid.unique()"
   ]
  },
  {
   "cell_type": "code",
   "execution_count": 14,
   "metadata": {},
   "outputs": [
    {
     "data": {
      "text/plain": [
       "11719"
      ]
     },
     "execution_count": 14,
     "metadata": {},
     "output_type": "execute_result"
    }
   ],
   "source": [
    "len(customer_purchased)"
   ]
  },
  {
   "cell_type": "markdown",
   "metadata": {},
   "source": [
    "these many visitors made purchases.\n",
    "\n",
    "and their unique 'visitorid' is stored in customer_purchased"
   ]
  },
  {
   "cell_type": "code",
   "execution_count": 15,
   "metadata": {},
   "outputs": [],
   "source": [
    "all_customers = events_df.visitorid.unique()"
   ]
  },
  {
   "cell_type": "code",
   "execution_count": 16,
   "metadata": {},
   "outputs": [
    {
     "data": {
      "text/plain": [
       "1407580"
      ]
     },
     "execution_count": 16,
     "metadata": {},
     "output_type": "execute_result"
    }
   ],
   "source": [
    "len(all_customers)\n",
    "#all the visitors of the item."
   ]
  },
  {
   "cell_type": "code",
   "execution_count": 17,
   "metadata": {},
   "outputs": [],
   "source": [
    "customer_browsed = [x for x in all_customers if x not in customer_purchased]  # this code takes time"
   ]
  },
  {
   "cell_type": "code",
   "execution_count": 18,
   "metadata": {},
   "outputs": [
    {
     "data": {
      "text/plain": [
       "(list, 1395861)"
      ]
     },
     "execution_count": 18,
     "metadata": {},
     "output_type": "execute_result"
    }
   ],
   "source": [
    "type(customer_browsed),len(customer_browsed)"
   ]
  },
  {
   "cell_type": "code",
   "execution_count": 19,
   "metadata": {},
   "outputs": [],
   "source": [
    "customer_browsed = np.isin(all_customers,customer_purchased)  \n",
    "\n",
    "# another way of doing this.\n",
    "#customer_browsed = np.array(list(set(all_customers)- set(customer_purchased)))  \n",
    "\n",
    "\n",
    "# both these codes save time, "
   ]
  },
  {
   "cell_type": "code",
   "execution_count": 20,
   "metadata": {},
   "outputs": [
    {
     "data": {
      "text/plain": [
       "1407580"
      ]
     },
     "execution_count": 20,
     "metadata": {},
     "output_type": "execute_result"
    }
   ],
   "source": [
    "len(customer_browsed)"
   ]
  },
  {
   "cell_type": "markdown",
   "metadata": {},
   "source": [
    "these many customers have visited the item, but did not purchaced it."
   ]
  },
  {
   "cell_type": "markdown",
   "metadata": {},
   "source": [
    "REMEMBER: CUSTOMER_PURCHASED, CUSTOMER_BROWSED, ALL_CUSTOMERS.  ALL CONTAIN UNIQUE 'visitorid', in numpy array"
   ]
  },
  {
   "cell_type": "markdown",
   "metadata": {},
   "source": [
    "# Below is a snapshot of visitor id 599528 and their buying journey from viewing to transaction (purchase)"
   ]
  },
  {
   "cell_type": "code",
   "execution_count": 21,
   "metadata": {},
   "outputs": [
    {
     "data": {
      "text/html": [
       "<div>\n",
       "<style scoped>\n",
       "    .dataframe tbody tr th:only-of-type {\n",
       "        vertical-align: middle;\n",
       "    }\n",
       "\n",
       "    .dataframe tbody tr th {\n",
       "        vertical-align: top;\n",
       "    }\n",
       "\n",
       "    .dataframe thead th {\n",
       "        text-align: right;\n",
       "    }\n",
       "</style>\n",
       "<table border=\"1\" class=\"dataframe\">\n",
       "  <thead>\n",
       "    <tr style=\"text-align: right;\">\n",
       "      <th></th>\n",
       "      <th>timestamp</th>\n",
       "      <th>visitorid</th>\n",
       "      <th>event</th>\n",
       "      <th>itemid</th>\n",
       "      <th>transactionid</th>\n",
       "    </tr>\n",
       "  </thead>\n",
       "  <tbody>\n",
       "    <tr>\n",
       "      <th>16729</th>\n",
       "      <td>1433221896102</td>\n",
       "      <td>599528</td>\n",
       "      <td>view</td>\n",
       "      <td>356475</td>\n",
       "      <td>NaN</td>\n",
       "    </tr>\n",
       "    <tr>\n",
       "      <th>112</th>\n",
       "      <td>1433221941632</td>\n",
       "      <td>599528</td>\n",
       "      <td>addtocart</td>\n",
       "      <td>356475</td>\n",
       "      <td>NaN</td>\n",
       "    </tr>\n",
       "    <tr>\n",
       "      <th>130</th>\n",
       "      <td>1433222276276</td>\n",
       "      <td>599528</td>\n",
       "      <td>transaction</td>\n",
       "      <td>356475</td>\n",
       "      <td>4000.0</td>\n",
       "    </tr>\n",
       "    <tr>\n",
       "      <th>29505</th>\n",
       "      <td>1433297545235</td>\n",
       "      <td>599528</td>\n",
       "      <td>view</td>\n",
       "      <td>356475</td>\n",
       "      <td>NaN</td>\n",
       "    </tr>\n",
       "    <tr>\n",
       "      <th>114163</th>\n",
       "      <td>1433625010602</td>\n",
       "      <td>599528</td>\n",
       "      <td>view</td>\n",
       "      <td>356475</td>\n",
       "      <td>NaN</td>\n",
       "    </tr>\n",
       "    <tr>\n",
       "      <th>145498</th>\n",
       "      <td>1433731497480</td>\n",
       "      <td>599528</td>\n",
       "      <td>view</td>\n",
       "      <td>356475</td>\n",
       "      <td>NaN</td>\n",
       "    </tr>\n",
       "    <tr>\n",
       "      <th>187497</th>\n",
       "      <td>1433896449376</td>\n",
       "      <td>599528</td>\n",
       "      <td>view</td>\n",
       "      <td>356475</td>\n",
       "      <td>NaN</td>\n",
       "    </tr>\n",
       "    <tr>\n",
       "      <th>171995</th>\n",
       "      <td>1433896477794</td>\n",
       "      <td>599528</td>\n",
       "      <td>view</td>\n",
       "      <td>356475</td>\n",
       "      <td>NaN</td>\n",
       "    </tr>\n",
       "    <tr>\n",
       "      <th>197272</th>\n",
       "      <td>1433960259198</td>\n",
       "      <td>599528</td>\n",
       "      <td>view</td>\n",
       "      <td>356475</td>\n",
       "      <td>NaN</td>\n",
       "    </tr>\n",
       "    <tr>\n",
       "      <th>192471</th>\n",
       "      <td>1433960567121</td>\n",
       "      <td>599528</td>\n",
       "      <td>view</td>\n",
       "      <td>356475</td>\n",
       "      <td>NaN</td>\n",
       "    </tr>\n",
       "    <tr>\n",
       "      <th>198282</th>\n",
       "      <td>1433963102402</td>\n",
       "      <td>599528</td>\n",
       "      <td>view</td>\n",
       "      <td>356475</td>\n",
       "      <td>NaN</td>\n",
       "    </tr>\n",
       "    <tr>\n",
       "      <th>198625</th>\n",
       "      <td>1433973462396</td>\n",
       "      <td>599528</td>\n",
       "      <td>view</td>\n",
       "      <td>356475</td>\n",
       "      <td>NaN</td>\n",
       "    </tr>\n",
       "    <tr>\n",
       "      <th>244007</th>\n",
       "      <td>1434038132984</td>\n",
       "      <td>599528</td>\n",
       "      <td>view</td>\n",
       "      <td>356475</td>\n",
       "      <td>NaN</td>\n",
       "    </tr>\n",
       "    <tr>\n",
       "      <th>230066</th>\n",
       "      <td>1434078873027</td>\n",
       "      <td>599528</td>\n",
       "      <td>view</td>\n",
       "      <td>356475</td>\n",
       "      <td>NaN</td>\n",
       "    </tr>\n",
       "    <tr>\n",
       "      <th>234266</th>\n",
       "      <td>1434086434308</td>\n",
       "      <td>599528</td>\n",
       "      <td>view</td>\n",
       "      <td>356475</td>\n",
       "      <td>NaN</td>\n",
       "    </tr>\n",
       "    <tr>\n",
       "      <th>259779</th>\n",
       "      <td>1434115231654</td>\n",
       "      <td>599528</td>\n",
       "      <td>view</td>\n",
       "      <td>356475</td>\n",
       "      <td>NaN</td>\n",
       "    </tr>\n",
       "    <tr>\n",
       "      <th>1039541</th>\n",
       "      <td>1440527523642</td>\n",
       "      <td>599528</td>\n",
       "      <td>view</td>\n",
       "      <td>64279</td>\n",
       "      <td>NaN</td>\n",
       "    </tr>\n",
       "  </tbody>\n",
       "</table>\n",
       "</div>"
      ],
      "text/plain": [
       "             timestamp  visitorid        event  itemid  transactionid\n",
       "16729    1433221896102     599528         view  356475            NaN\n",
       "112      1433221941632     599528    addtocart  356475            NaN\n",
       "130      1433222276276     599528  transaction  356475         4000.0\n",
       "29505    1433297545235     599528         view  356475            NaN\n",
       "114163   1433625010602     599528         view  356475            NaN\n",
       "145498   1433731497480     599528         view  356475            NaN\n",
       "187497   1433896449376     599528         view  356475            NaN\n",
       "171995   1433896477794     599528         view  356475            NaN\n",
       "197272   1433960259198     599528         view  356475            NaN\n",
       "192471   1433960567121     599528         view  356475            NaN\n",
       "198282   1433963102402     599528         view  356475            NaN\n",
       "198625   1433973462396     599528         view  356475            NaN\n",
       "244007   1434038132984     599528         view  356475            NaN\n",
       "230066   1434078873027     599528         view  356475            NaN\n",
       "234266   1434086434308     599528         view  356475            NaN\n",
       "259779   1434115231654     599528         view  356475            NaN\n",
       "1039541  1440527523642     599528         view   64279            NaN"
      ]
     },
     "execution_count": 21,
     "metadata": {},
     "output_type": "execute_result"
    }
   ],
   "source": [
    "customer_history = events_df[events_df.visitorid == 599528].sort_values('timestamp')\n",
    "customer_history"
   ]
  },
  {
   "cell_type": "markdown",
   "metadata": {},
   "source": [
    "\n",
    "Now, that we know about customer_purchased lets find out which items they purchased.\n"
   ]
  },
  {
   "cell_type": "code",
   "execution_count": 22,
   "metadata": {},
   "outputs": [],
   "source": [
    "purchased_items =[]\n",
    "for customer in customer_purchased:\n",
    "    purchased_items.append(list(events_df.loc[(events_df.visitorid == customer) & (events_df.transactionid.notnull())].itemid.unique()))"
   ]
  },
  {
   "cell_type": "markdown",
   "metadata": {},
   "source": [
    "purchased_items is a list which contain itemid of purchased items."
   ]
  },
  {
   "cell_type": "code",
   "execution_count": 23,
   "metadata": {},
   "outputs": [
    {
     "data": {
      "text/plain": [
       "11719"
      ]
     },
     "execution_count": 23,
     "metadata": {},
     "output_type": "execute_result"
    }
   ],
   "source": [
    "len(purchased_items)"
   ]
  },
  {
   "cell_type": "code",
   "execution_count": 24,
   "metadata": {},
   "outputs": [
    {
     "data": {
      "text/plain": [
       "[[329522],\n",
       " [164885],\n",
       " [384399],\n",
       " [385201],\n",
       " [315543],\n",
       " [1684],\n",
       " [19883],\n",
       " [288418],\n",
       " [379092],\n",
       " [243470],\n",
       " [189444],\n",
       " [190260],\n",
       " [78822, 251415],\n",
       " [115530],\n",
       " [102573],\n",
       " [821],\n",
       " [431447],\n",
       " [317435],\n",
       " [181202],\n",
       " [231565],\n",
       " [217218, 8641, 32227, 331159],\n",
       " [339808],\n",
       " [312728,\n",
       "  353436,\n",
       "  156552,\n",
       "  179290,\n",
       "  182157,\n",
       "  31058,\n",
       "  389200,\n",
       "  152262,\n",
       "  98425,\n",
       "  331644,\n",
       "  454183],\n",
       " [448494],\n",
       " [199348],\n",
       " [118024, 305742, 113641, 275344],\n",
       " [281480, 271268, 102408, 358731, 445813, 283037],\n",
       " [43485],\n",
       " [189764],\n",
       " [243980],\n",
       " [248614],\n",
       " [120098, 34269, 85771, 451501, 7574, 433543, 79801, 291964],\n",
       " [127722, 62800, 8641, 185211, 273747, 406121, 403477, 73377, 38437, 340327],\n",
       " [52539, 206218, 156767],\n",
       " [306328, 249161, 194643],\n",
       " [157438, 193554, 428040],\n",
       " [8724],\n",
       " [219821, 329443],\n",
       " [6364,\n",
       "  331159,\n",
       "  150889,\n",
       "  273555,\n",
       "  406071,\n",
       "  160272,\n",
       "  276282,\n",
       "  100188,\n",
       "  77844,\n",
       "  255908,\n",
       "  388800,\n",
       "  259710,\n",
       "  99003,\n",
       "  252400,\n",
       "  58123],\n",
       " [316753],\n",
       " [7943],\n",
       " [336359],\n",
       " [151471],\n",
       " [383396],\n",
       " [158575],\n",
       " [114121,\n",
       "  382649,\n",
       "  44001,\n",
       "  41422,\n",
       "  143643,\n",
       "  379390,\n",
       "  293038,\n",
       "  277139,\n",
       "  143418,\n",
       "  279618,\n",
       "  324462,\n",
       "  432925,\n",
       "  206925,\n",
       "  421884,\n",
       "  37254,\n",
       "  31644,\n",
       "  386635,\n",
       "  49196,\n",
       "  318333,\n",
       "  175662,\n",
       "  156522,\n",
       "  321005,\n",
       "  354484,\n",
       "  440677,\n",
       "  294267,\n",
       "  361777,\n",
       "  257412,\n",
       "  386476,\n",
       "  243171,\n",
       "  120098,\n",
       "  271823,\n",
       "  374092,\n",
       "  4538,\n",
       "  207815,\n",
       "  424515,\n",
       "  301721,\n",
       "  369158,\n",
       "  444593,\n",
       "  260546,\n",
       "  369093,\n",
       "  108618,\n",
       "  281103,\n",
       "  28212,\n",
       "  452361,\n",
       "  65580,\n",
       "  99907,\n",
       "  132418,\n",
       "  260256,\n",
       "  212743,\n",
       "  15564,\n",
       "  193507,\n",
       "  223739,\n",
       "  291767,\n",
       "  139515,\n",
       "  376793,\n",
       "  198209,\n",
       "  231819,\n",
       "  309778,\n",
       "  121540,\n",
       "  14932,\n",
       "  120446,\n",
       "  360790,\n",
       "  173253,\n",
       "  266825,\n",
       "  395823,\n",
       "  405649,\n",
       "  180009,\n",
       "  344071,\n",
       "  287467,\n",
       "  217387,\n",
       "  380484,\n",
       "  16200,\n",
       "  339917,\n",
       "  43526,\n",
       "  460553,\n",
       "  52039,\n",
       "  331725,\n",
       "  250908,\n",
       "  189926,\n",
       "  441620,\n",
       "  411886,\n",
       "  257767,\n",
       "  145197,\n",
       "  101747,\n",
       "  79097,\n",
       "  284045,\n",
       "  457906,\n",
       "  224614,\n",
       "  243376,\n",
       "  185305,\n",
       "  177636,\n",
       "  179033],\n",
       " [164035],\n",
       " [321984, 48115],\n",
       " [151320],\n",
       " [234255]]"
      ]
     },
     "execution_count": 24,
     "metadata": {},
     "output_type": "execute_result"
    }
   ],
   "source": [
    "purchased_items[100:150]"
   ]
  },
  {
   "cell_type": "markdown",
   "metadata": {},
   "source": [
    "above data is given in the form of list of lists.\n",
    "\n",
    "The inner lists are collection of itemid purchased by single costumer(possibly on different dates).\n",
    "\n",
    "This inner list of items can be used to suggest visitors(\"thoes who buy this also buy following\"). Provided the visitor buy any one item from this inner list."
   ]
  },
  {
   "cell_type": "code",
   "execution_count": 25,
   "metadata": {},
   "outputs": [],
   "source": [
    "# As purchase is made 'itemid' is pass through this function along with purchased_items(which is calculated above)\n",
    "def recommender_bought_bought(item_id, purchased_items):\n",
    "    recommender_list = []\n",
    "    for x in purchased_items:        # x(inner_list) is a purchased item\n",
    "        if item_id in x:             # purchased item is in x(inner_list)\n",
    "            recommender_list += x\n",
    "    recommender_list = list(set(recommender_list) - set([item_id]))\n",
    "    \n",
    "    return recommender_list"
   ]
  },
  {
   "cell_type": "code",
   "execution_count": 26,
   "metadata": {},
   "outputs": [
    {
     "data": {
      "text/plain": [
       "[330506,\n",
       " 100108,\n",
       " 243218,\n",
       " 357650,\n",
       " 213785,\n",
       " 90910,\n",
       " 73760,\n",
       " 41763,\n",
       " 133157,\n",
       " 226092,\n",
       " 375854,\n",
       " 165169,\n",
       " 296756,\n",
       " 269110,\n",
       " 132156,\n",
       " 136766,\n",
       " 122435,\n",
       " 434247,\n",
       " 249161,\n",
       " 263245,\n",
       " 134992,\n",
       " 45393,\n",
       " 409426,\n",
       " 420960,\n",
       " 117096,\n",
       " 279656,\n",
       " 49257,\n",
       " 265326,\n",
       " 136053,\n",
       " 53113,\n",
       " 401529,\n",
       " 355707,\n",
       " 198784,\n",
       " 75392,\n",
       " 102020,\n",
       " 8070,\n",
       " 188550,\n",
       " 275339,\n",
       " 139918,\n",
       " 132246,\n",
       " 306328,\n",
       " 384157,\n",
       " 60317,\n",
       " 241826,\n",
       " 165282,\n",
       " 353965,\n",
       " 335536,\n",
       " 350384,\n",
       " 290999,\n",
       " 119736,\n",
       " 206527,\n",
       " 25025,\n",
       " 293576,\n",
       " 105933,\n",
       " 438484,\n",
       " 181462,\n",
       " 60888,\n",
       " 275677,\n",
       " 308704,\n",
       " 430050,\n",
       " 389860,\n",
       " 176869,\n",
       " 162024,\n",
       " 116974,\n",
       " 453618,\n",
       " 351481,\n",
       " 211451]"
      ]
     },
     "execution_count": 26,
     "metadata": {},
     "output_type": "execute_result"
    }
   ],
   "source": [
    "# Check: recommender_bought_bought()\n",
    "recommender_bought_bought(194643, purchased_items)"
   ]
  },
  {
   "cell_type": "markdown",
   "metadata": {},
   "source": [
    "So now we can present to the visitor a list of the other items a customer previously bought along with what item the current visitor is viewing e.g. item number 302422"
   ]
  },
  {
   "cell_type": "code",
   "execution_count": 27,
   "metadata": {},
   "outputs": [
    {
     "data": {
      "text/plain": [
       "[8641, 32227, 331159]"
      ]
     },
     "execution_count": 27,
     "metadata": {},
     "output_type": "execute_result"
    }
   ],
   "source": [
    "recommender_bought_bought(217218, purchased_items)    # itemid = '217218'"
   ]
  },
  {
   "cell_type": "code",
   "execution_count": 28,
   "metadata": {},
   "outputs": [
    {
     "data": {
      "text/plain": [
       "[193554, 157438]"
      ]
     },
     "execution_count": 28,
     "metadata": {},
     "output_type": "execute_result"
    }
   ],
   "source": [
    "recommender_bought_bought(428040, purchased_items)     # itemid = '428040'"
   ]
  },
  {
   "cell_type": "code",
   "execution_count": 29,
   "metadata": {},
   "outputs": [
    {
     "data": {
      "text/plain": [
       "[48115]"
      ]
     },
     "execution_count": 29,
     "metadata": {},
     "output_type": "execute_result"
    }
   ],
   "source": [
    "recommender_bought_bought(321984, purchased_items)     # itemid = '321984'"
   ]
  },
  {
   "cell_type": "code",
   "execution_count": 30,
   "metadata": {},
   "outputs": [
    {
     "data": {
      "text/plain": [
       "[450565,\n",
       " 79877,\n",
       " 215051,\n",
       " 323599,\n",
       " 325652,\n",
       " 67614,\n",
       " 172063,\n",
       " 352290,\n",
       " 428067,\n",
       " 299044,\n",
       " 210984,\n",
       " 251945,\n",
       " 262186,\n",
       " 268336,\n",
       " 225329,\n",
       " 106547,\n",
       " 38965,\n",
       " 272438,\n",
       " 415810,\n",
       " 438338,\n",
       " 450641,\n",
       " 137305,\n",
       " 75873,\n",
       " 258148,\n",
       " 464998,\n",
       " 176231,\n",
       " 153708,\n",
       " 213102,\n",
       " 319602,\n",
       " 436344,\n",
       " 118914,\n",
       " 161925,\n",
       " 413834,\n",
       " 438412,\n",
       " 376974,\n",
       " 256146,\n",
       " 368788,\n",
       " 254101,\n",
       " 315543,\n",
       " 8347,\n",
       " 71836,\n",
       " 239774,\n",
       " 260256,\n",
       " 454818,\n",
       " 448690,\n",
       " 100532,\n",
       " 377018,\n",
       " 104634,\n",
       " 270525,\n",
       " 18626,\n",
       " 98498,\n",
       " 37068,\n",
       " 409804,\n",
       " 276704,\n",
       " 47334,\n",
       " 202983,\n",
       " 116968,\n",
       " 57577,\n",
       " 166122,\n",
       " 176363,\n",
       " 139515,\n",
       " 432391,\n",
       " 61705,\n",
       " 182539,\n",
       " 241940,\n",
       " 170262,\n",
       " 354585,\n",
       " 461093,\n",
       " 370984,\n",
       " 151848,\n",
       " 319797,\n",
       " 266553,\n",
       " 268604,\n",
       " 391484,\n",
       " 444741,\n",
       " 373064,\n",
       " 246090,\n",
       " 41295,\n",
       " 254290,\n",
       " 188754,\n",
       " 457045,\n",
       " 57686,\n",
       " 282966,\n",
       " 4442,\n",
       " 235880,\n",
       " 383341,\n",
       " 170353,\n",
       " 199026,\n",
       " 242035,\n",
       " 299384,\n",
       " 219512,\n",
       " 31098,\n",
       " 352634,\n",
       " 360825,\n",
       " 186745,\n",
       " 344446,\n",
       " 360831,\n",
       " 37254,\n",
       " 450950,\n",
       " 108936,\n",
       " 27020,\n",
       " 22926,\n",
       " 65941,\n",
       " 219550,\n",
       " 104864,\n",
       " 166306,\n",
       " 192931,\n",
       " 8612,\n",
       " 168358,\n",
       " 360877,\n",
       " 221614,\n",
       " 184756,\n",
       " 4537,\n",
       " 57788,\n",
       " 336319,\n",
       " 248262,\n",
       " 352723,\n",
       " 268755,\n",
       " 451027,\n",
       " 436694,\n",
       " 35287,\n",
       " 137697,\n",
       " 227814,\n",
       " 29167,\n",
       " 348659,\n",
       " 299517,\n",
       " 342530,\n",
       " 68100,\n",
       " 406025,\n",
       " 428554,\n",
       " 272907,\n",
       " 29196,\n",
       " 107025,\n",
       " 88594,\n",
       " 186900,\n",
       " 303637,\n",
       " 338461,\n",
       " 264736,\n",
       " 68128,\n",
       " 546,\n",
       " 301602,\n",
       " 6692,\n",
       " 29220,\n",
       " 387622,\n",
       " 424506,\n",
       " 45628,\n",
       " 338495,\n",
       " 6720,\n",
       " 139845,\n",
       " 164429,\n",
       " 459354,\n",
       " 449118,\n",
       " 408172,\n",
       " 178797,\n",
       " 365166,\n",
       " 217712,\n",
       " 295537,\n",
       " 176757,\n",
       " 311931,\n",
       " 320130,\n",
       " 148103,\n",
       " 248455,\n",
       " 2698,\n",
       " 184973,\n",
       " 127631,\n",
       " 178837,\n",
       " 434838,\n",
       " 123541,\n",
       " 375450,\n",
       " 146081,\n",
       " 354982,\n",
       " 379573,\n",
       " 76477,\n",
       " 361152,\n",
       " 281281,\n",
       " 359109,\n",
       " 334536,\n",
       " 127688,\n",
       " 221900,\n",
       " 314062,\n",
       " 720,\n",
       " 234192,\n",
       " 461520,\n",
       " 285400,\n",
       " 279257,\n",
       " 303833,\n",
       " 174815,\n",
       " 199394,\n",
       " 338660,\n",
       " 176869,\n",
       " 94952,\n",
       " 37609,\n",
       " 236266,\n",
       " 127722,\n",
       " 418560,\n",
       " 6913,\n",
       " 162565,\n",
       " 127751,\n",
       " 357132,\n",
       " 357133,\n",
       " 391952,\n",
       " 301843,\n",
       " 387863,\n",
       " 140055,\n",
       " 213785,\n",
       " 355099,\n",
       " 113440,\n",
       " 398115,\n",
       " 197422,\n",
       " 418606,\n",
       " 332592,\n",
       " 156466,\n",
       " 244534,\n",
       " 340794,\n",
       " 62269,\n",
       " 244541,\n",
       " 340803,\n",
       " 412486,\n",
       " 213834,\n",
       " 164683,\n",
       " 217935,\n",
       " 332629,\n",
       " 340825,\n",
       " 172894,\n",
       " 236385,\n",
       " 355169,\n",
       " 869,\n",
       " 293735,\n",
       " 338794,\n",
       " 152433,\n",
       " 277362,\n",
       " 99187,\n",
       " 154485,\n",
       " 461686,\n",
       " 66424,\n",
       " 152443,\n",
       " 37760,\n",
       " 213893,\n",
       " 248711,\n",
       " 170894,\n",
       " 234390,\n",
       " 240534,\n",
       " 465824,\n",
       " 25515,\n",
       " 451501,\n",
       " 117677,\n",
       " 240558,\n",
       " 66480,\n",
       " 39854,\n",
       " 408504,\n",
       " 119736,\n",
       " 109498,\n",
       " 283579,\n",
       " 322489,\n",
       " 117699,\n",
       " 56269,\n",
       " 222164,\n",
       " 318421,\n",
       " 312276,\n",
       " 80858,\n",
       " 410587,\n",
       " 164828,\n",
       " 148446,\n",
       " 236512,\n",
       " 230376,\n",
       " 396265,\n",
       " 113641,\n",
       " 41963,\n",
       " 193518,\n",
       " 56303,\n",
       " 222196,\n",
       " 156665,\n",
       " 175100,\n",
       " 148478,\n",
       " 15358,\n",
       " 70662,\n",
       " 197642,\n",
       " 263182,\n",
       " 406543,\n",
       " 11279,\n",
       " 23568,\n",
       " 445456,\n",
       " 263188,\n",
       " 388119,\n",
       " 361496,\n",
       " 19484,\n",
       " 377888,\n",
       " 259105,\n",
       " 435234,\n",
       " 257062,\n",
       " 212006,\n",
       " 169003,\n",
       " 449582,\n",
       " 308273,\n",
       " 316472,\n",
       " 250942,\n",
       " 109638,\n",
       " 291920,\n",
       " 37976,\n",
       " 66648,\n",
       " 132187,\n",
       " 353373,\n",
       " 420960,\n",
       " 349284,\n",
       " 13417,\n",
       " 210026,\n",
       " 380014,\n",
       " 162926,\n",
       " 361591,\n",
       " 56441,\n",
       " 1152,\n",
       " 277638,\n",
       " 375955,\n",
       " 52371,\n",
       " 396445,\n",
       " 97437,\n",
       " 451741,\n",
       " 187549,\n",
       " 9385,\n",
       " 259243,\n",
       " 66737,\n",
       " 160949,\n",
       " 138427,\n",
       " 406727,\n",
       " 72911,\n",
       " 97488,\n",
       " 23762,\n",
       " 384212,\n",
       " 167126,\n",
       " 183511,\n",
       " 95447,\n",
       " 259292,\n",
       " 345308,\n",
       " 216293,\n",
       " 445676,\n",
       " 390380,\n",
       " 64749,\n",
       " 72944,\n",
       " 457970,\n",
       " 283916,\n",
       " 58638,\n",
       " 99601,\n",
       " 62737,\n",
       " 283923,\n",
       " 191763,\n",
       " 232725,\n",
       " 204057,\n",
       " 99610,\n",
       " 99611,\n",
       " 300314,\n",
       " 308510,\n",
       " 318750,\n",
       " 120098,\n",
       " 228644,\n",
       " 292136,\n",
       " 337196,\n",
       " 384302,\n",
       " 255285,\n",
       " 148790,\n",
       " 124214,\n",
       " 64834,\n",
       " 464196,\n",
       " 322887,\n",
       " 423248,\n",
       " 316753,\n",
       " 310620,\n",
       " 294242,\n",
       " 126307,\n",
       " 230757,\n",
       " 58726,\n",
       " 23912,\n",
       " 64881,\n",
       " 173433,\n",
       " 19833,\n",
       " 126332,\n",
       " 15744,\n",
       " 38272,\n",
       " 433543,\n",
       " 177543,\n",
       " 294284,\n",
       " 429452,\n",
       " 284045,\n",
       " 329104,\n",
       " 179601,\n",
       " 458130,\n",
       " 130451,\n",
       " 261520,\n",
       " 7574,\n",
       " 114070,\n",
       " 132507,\n",
       " 206241,\n",
       " 32164,\n",
       " 245158,\n",
       " 40359,\n",
       " 355752,\n",
       " 34220,\n",
       " 245168,\n",
       " 44465,\n",
       " 296375,\n",
       " 415160,\n",
       " 464315,\n",
       " 368060,\n",
       " 202171,\n",
       " 114121,\n",
       " 56782,\n",
       " 273872,\n",
       " 384470,\n",
       " 50648,\n",
       " 87513,\n",
       " 237019,\n",
       " 34269,\n",
       " 357854,\n",
       " 142819,\n",
       " 177636,\n",
       " 26086,\n",
       " 359910,\n",
       " 255469,\n",
       " 108021,\n",
       " 175610,\n",
       " 441852,\n",
       " 65021,\n",
       " 230911,\n",
       " 183814,\n",
       " 9759,\n",
       " 450082,\n",
       " 60966,\n",
       " 5675,\n",
       " 448044,\n",
       " 190000,\n",
       " 398907,\n",
       " 273980,\n",
       " 81473,\n",
       " 208450,\n",
       " 415301,\n",
       " 46671,\n",
       " 34386,\n",
       " 278100,\n",
       " 263765,\n",
       " 296536,\n",
       " 214617,\n",
       " 24154,\n",
       " 171611,\n",
       " 415324,\n",
       " 126557,\n",
       " 433759,\n",
       " 73311,\n",
       " 366177,\n",
       " 400998,\n",
       " 257655,\n",
       " 93831,\n",
       " 345743,\n",
       " 386704,\n",
       " 1684,\n",
       " 130709,\n",
       " 120471,\n",
       " 126623,\n",
       " 310944,\n",
       " 114342,\n",
       " 364203,\n",
       " 253615,\n",
       " 89775,\n",
       " 442033,\n",
       " 32450,\n",
       " 54982,\n",
       " 368328,\n",
       " 204494,\n",
       " 370395,\n",
       " 190172,\n",
       " 351975,\n",
       " 304877,\n",
       " 130800,\n",
       " 65273,\n",
       " 157437,\n",
       " 440066,\n",
       " 7943,\n",
       " 360200,\n",
       " 452361,\n",
       " 40712,\n",
       " 85771,\n",
       " 36620,\n",
       " 378637,\n",
       " 175885,\n",
       " 282385,\n",
       " 239377,\n",
       " 368403,\n",
       " 413460,\n",
       " 390934,\n",
       " 118551,\n",
       " 272152,\n",
       " 417559,\n",
       " 454422,\n",
       " 454430,\n",
       " 196398,\n",
       " 284463,\n",
       " 130865,\n",
       " 268081,\n",
       " 462643,\n",
       " 69427,\n",
       " 343861,\n",
       " 247601,\n",
       " 10040,\n",
       " 257856,\n",
       " 436034,\n",
       " 94019,\n",
       " 390984,\n",
       " 415562,\n",
       " 75597,\n",
       " 22351,\n",
       " 218962,\n",
       " 372568,\n",
       " 18265,\n",
       " 227161,\n",
       " 399192,\n",
       " 354153,\n",
       " 67434,\n",
       " 61292,\n",
       " 464751,\n",
       " 102255,\n",
       " 458608,\n",
       " 305010,\n",
       " 325508,\n",
       " 401285,\n",
       " 227211,\n",
       " 124827,\n",
       " 57243,\n",
       " 171936,\n",
       " 382885,\n",
       " 305067,\n",
       " 419761,\n",
       " 110517,\n",
       " 196536,\n",
       " 79801,\n",
       " 1976,\n",
       " 100282,\n",
       " 196540,\n",
       " 8122,\n",
       " 190398,\n",
       " 272324,\n",
       " 12233,\n",
       " 210896,\n",
       " 190416,\n",
       " 55251,\n",
       " 106454,\n",
       " 223203,\n",
       " 4067,\n",
       " 153574,\n",
       " 188390,\n",
       " 192491,\n",
       " 120822,\n",
       " 118780]"
      ]
     },
     "execution_count": 30,
     "metadata": {},
     "output_type": "execute_result"
    }
   ],
   "source": [
    "recommender_bought_bought(291964, purchased_items)     # itemid = '291964'"
   ]
  },
  {
   "cell_type": "code",
   "execution_count": 31,
   "metadata": {},
   "outputs": [
    {
     "data": {
      "text/plain": [
       "[449220,\n",
       " 433543,\n",
       " 273872,\n",
       " 256146,\n",
       " 336405,\n",
       " 7574,\n",
       " 34269,\n",
       " 172894,\n",
       " 120098,\n",
       " 86691,\n",
       " 4067,\n",
       " 380971,\n",
       " 451501,\n",
       " 412333,\n",
       " 271405,\n",
       " 123448,\n",
       " 79801,\n",
       " 291964,\n",
       " 15358,\n",
       " 277183]"
      ]
     },
     "execution_count": 31,
     "metadata": {},
     "output_type": "execute_result"
    }
   ],
   "source": [
    "recommender_bought_bought(85771, purchased_items)     # itemid = '85771'"
   ]
  },
  {
   "cell_type": "markdown",
   "metadata": {},
   "source": []
  },
  {
   "cell_type": "code",
   "execution_count": 32,
   "metadata": {},
   "outputs": [
    {
     "data": {
      "text/plain": [
       "1407580"
      ]
     },
     "execution_count": 32,
     "metadata": {},
     "output_type": "execute_result"
    }
   ],
   "source": [
    "all_visitors = events_df.visitorid.sort_values().unique()\n",
    "all_visitors.size"
   ]
  },
  {
   "cell_type": "code",
   "execution_count": 33,
   "metadata": {},
   "outputs": [
    {
     "data": {
      "text/plain": [
       "11719"
      ]
     },
     "execution_count": 33,
     "metadata": {},
     "output_type": "execute_result"
    }
   ],
   "source": [
    "buying_visitors = events_df[events_df.event == 'transaction'].visitorid.sort_values().unique()\n",
    "buying_visitors.size"
   ]
  },
  {
   "cell_type": "code",
   "execution_count": 34,
   "metadata": {},
   "outputs": [],
   "source": [
    "viewing_visitors_list = list(set(all_visitors) - set(buying_visitors))"
   ]
  },
  {
   "cell_type": "code",
   "execution_count": 35,
   "metadata": {},
   "outputs": [],
   "source": [
    "def create_dataframe(visitor_list):\n",
    "    \n",
    "    array_for_df = []\n",
    "    for v_id in visitor_list:\n",
    "\n",
    "        #Create that visitor's dataframe once\n",
    "        v_df = events_df[events_df.visitorid == v_id]\n",
    "\n",
    "        temp = []\n",
    "        #Add the visitor id\n",
    "        temp.append(v_id)\n",
    "\n",
    "        #Add the total number of unique products viewed\n",
    "        temp.append(v_df[v_df.event == 'view'].itemid.unique().size)\n",
    "\n",
    "        #Add the total number of views regardless of product type\n",
    "        temp.append(v_df[v_df.event == 'view'].event.count())\n",
    "\n",
    "        #Add the total number of purchases\n",
    "        number_of_items_bought = v_df[v_df.event == 'transaction'].event.count()\n",
    "        temp.append(number_of_items_bought)\n",
    "\n",
    "        #Then put either a zero or one if they made a purchase\n",
    "        if(number_of_items_bought == 0):\n",
    "            temp.append(0)\n",
    "        else:\n",
    "            temp.append(1)\n",
    "\n",
    "        array_for_df.append(temp)\n",
    "    \n",
    "    return pd.DataFrame(array_for_df, columns=['visitorid', 'num_items_viewed', 'view_count', 'bought_count', 'purchased'])"
   ]
  },
  {
   "cell_type": "code",
   "execution_count": 36,
   "metadata": {},
   "outputs": [],
   "source": [
    "buying_visitors_df = create_dataframe(buying_visitors)\n",
    "#buying_visitors_df = create_dataframe(buying_visitors)"
   ]
  },
  {
   "cell_type": "code",
   "execution_count": 37,
   "metadata": {},
   "outputs": [
    {
     "data": {
      "text/html": [
       "<div>\n",
       "<style scoped>\n",
       "    .dataframe tbody tr th:only-of-type {\n",
       "        vertical-align: middle;\n",
       "    }\n",
       "\n",
       "    .dataframe tbody tr th {\n",
       "        vertical-align: top;\n",
       "    }\n",
       "\n",
       "    .dataframe thead th {\n",
       "        text-align: right;\n",
       "    }\n",
       "</style>\n",
       "<table border=\"1\" class=\"dataframe\">\n",
       "  <thead>\n",
       "    <tr style=\"text-align: right;\">\n",
       "      <th></th>\n",
       "      <th>visitorid</th>\n",
       "      <th>num_items_viewed</th>\n",
       "      <th>view_count</th>\n",
       "      <th>bought_count</th>\n",
       "      <th>purchased</th>\n",
       "    </tr>\n",
       "  </thead>\n",
       "  <tbody>\n",
       "    <tr>\n",
       "      <th>0</th>\n",
       "      <td>172</td>\n",
       "      <td>22</td>\n",
       "      <td>33</td>\n",
       "      <td>2</td>\n",
       "      <td>1</td>\n",
       "    </tr>\n",
       "    <tr>\n",
       "      <th>1</th>\n",
       "      <td>186</td>\n",
       "      <td>1</td>\n",
       "      <td>2</td>\n",
       "      <td>1</td>\n",
       "      <td>1</td>\n",
       "    </tr>\n",
       "    <tr>\n",
       "      <th>2</th>\n",
       "      <td>264</td>\n",
       "      <td>2</td>\n",
       "      <td>3</td>\n",
       "      <td>2</td>\n",
       "      <td>1</td>\n",
       "    </tr>\n",
       "    <tr>\n",
       "      <th>3</th>\n",
       "      <td>419</td>\n",
       "      <td>3</td>\n",
       "      <td>4</td>\n",
       "      <td>1</td>\n",
       "      <td>1</td>\n",
       "    </tr>\n",
       "    <tr>\n",
       "      <th>4</th>\n",
       "      <td>539</td>\n",
       "      <td>1</td>\n",
       "      <td>4</td>\n",
       "      <td>1</td>\n",
       "      <td>1</td>\n",
       "    </tr>\n",
       "    <tr>\n",
       "      <th>...</th>\n",
       "      <td>...</td>\n",
       "      <td>...</td>\n",
       "      <td>...</td>\n",
       "      <td>...</td>\n",
       "      <td>...</td>\n",
       "    </tr>\n",
       "    <tr>\n",
       "      <th>11714</th>\n",
       "      <td>1406787</td>\n",
       "      <td>3</td>\n",
       "      <td>20</td>\n",
       "      <td>1</td>\n",
       "      <td>1</td>\n",
       "    </tr>\n",
       "    <tr>\n",
       "      <th>11715</th>\n",
       "      <td>1406981</td>\n",
       "      <td>4</td>\n",
       "      <td>4</td>\n",
       "      <td>1</td>\n",
       "      <td>1</td>\n",
       "    </tr>\n",
       "    <tr>\n",
       "      <th>11716</th>\n",
       "      <td>1407070</td>\n",
       "      <td>1</td>\n",
       "      <td>1</td>\n",
       "      <td>1</td>\n",
       "      <td>1</td>\n",
       "    </tr>\n",
       "    <tr>\n",
       "      <th>11717</th>\n",
       "      <td>1407110</td>\n",
       "      <td>2</td>\n",
       "      <td>7</td>\n",
       "      <td>1</td>\n",
       "      <td>1</td>\n",
       "    </tr>\n",
       "    <tr>\n",
       "      <th>11718</th>\n",
       "      <td>1407398</td>\n",
       "      <td>0</td>\n",
       "      <td>0</td>\n",
       "      <td>1</td>\n",
       "      <td>1</td>\n",
       "    </tr>\n",
       "  </tbody>\n",
       "</table>\n",
       "<p>11719 rows × 5 columns</p>\n",
       "</div>"
      ],
      "text/plain": [
       "       visitorid  num_items_viewed  view_count  bought_count  purchased\n",
       "0            172                22          33             2          1\n",
       "1            186                 1           2             1          1\n",
       "2            264                 2           3             2          1\n",
       "3            419                 3           4             1          1\n",
       "4            539                 1           4             1          1\n",
       "...          ...               ...         ...           ...        ...\n",
       "11714    1406787                 3          20             1          1\n",
       "11715    1406981                 4           4             1          1\n",
       "11716    1407070                 1           1             1          1\n",
       "11717    1407110                 2           7             1          1\n",
       "11718    1407398                 0           0             1          1\n",
       "\n",
       "[11719 rows x 5 columns]"
      ]
     },
     "execution_count": 37,
     "metadata": {},
     "output_type": "execute_result"
    }
   ],
   "source": [
    "buying_visitors_df"
   ]
  },
  {
   "cell_type": "code",
   "execution_count": 38,
   "metadata": {},
   "outputs": [
    {
     "data": {
      "text/plain": [
       "<seaborn.axisgrid.PairGrid at 0x7f113f62fdf0>"
      ]
     },
     "execution_count": 38,
     "metadata": {},
     "output_type": "execute_result"
    },
    {
     "data": {
      "image/png": "[encoded data removed]",
      "text/plain": [
       "<Figure size 780.25x720 with 20 Axes>"
      ]
     },
     "metadata": {
      "needs_background": "light"
     },
     "output_type": "display_data"
    }
   ],
   "source": [
    "sns.pairplot(buying_visitors_df,hue ='purchased')"
   ]
  },
  {
   "cell_type": "code",
   "execution_count": 39,
   "metadata": {},
   "outputs": [
    {
     "data": {
      "text/plain": [
       "<seaborn.axisgrid.JointGrid at 0x7f11345d9e50>"
      ]
     },
     "execution_count": 39,
     "metadata": {},
     "output_type": "execute_result"
    },
    {
     "data": {
      "image/png": "[encoded data removed]",
      "text/plain": [
       "<Figure size 432x432 with 3 Axes>"
      ]
     },
     "metadata": {
      "needs_background": "light"
     },
     "output_type": "display_data"
    }
   ],
   "source": [
    "sns.jointplot(x = 'num_items_viewed',y = 'bought_count', data= buying_visitors_df,hue ='purchased')"
   ]
  },
  {
   "cell_type": "code",
   "execution_count": 40,
   "metadata": {},
   "outputs": [
    {
     "data": {
      "text/html": [
       "<div>\n",
       "<style scoped>\n",
       "    .dataframe tbody tr th:only-of-type {\n",
       "        vertical-align: middle;\n",
       "    }\n",
       "\n",
       "    .dataframe tbody tr th {\n",
       "        vertical-align: top;\n",
       "    }\n",
       "\n",
       "    .dataframe thead th {\n",
       "        text-align: right;\n",
       "    }\n",
       "</style>\n",
       "<table border=\"1\" class=\"dataframe\">\n",
       "  <thead>\n",
       "    <tr style=\"text-align: right;\">\n",
       "      <th></th>\n",
       "      <th>visitorid</th>\n",
       "      <th>num_items_viewed</th>\n",
       "      <th>view_count</th>\n",
       "      <th>bought_count</th>\n",
       "      <th>purchased</th>\n",
       "    </tr>\n",
       "  </thead>\n",
       "  <tbody>\n",
       "    <tr>\n",
       "      <th>0</th>\n",
       "      <td>0</td>\n",
       "      <td>3</td>\n",
       "      <td>3</td>\n",
       "      <td>0</td>\n",
       "      <td>0</td>\n",
       "    </tr>\n",
       "    <tr>\n",
       "      <th>1</th>\n",
       "      <td>1</td>\n",
       "      <td>1</td>\n",
       "      <td>1</td>\n",
       "      <td>0</td>\n",
       "      <td>0</td>\n",
       "    </tr>\n",
       "    <tr>\n",
       "      <th>2</th>\n",
       "      <td>2</td>\n",
       "      <td>4</td>\n",
       "      <td>8</td>\n",
       "      <td>0</td>\n",
       "      <td>0</td>\n",
       "    </tr>\n",
       "    <tr>\n",
       "      <th>3</th>\n",
       "      <td>3</td>\n",
       "      <td>1</td>\n",
       "      <td>1</td>\n",
       "      <td>0</td>\n",
       "      <td>0</td>\n",
       "    </tr>\n",
       "    <tr>\n",
       "      <th>4</th>\n",
       "      <td>4</td>\n",
       "      <td>1</td>\n",
       "      <td>1</td>\n",
       "      <td>0</td>\n",
       "      <td>0</td>\n",
       "    </tr>\n",
       "    <tr>\n",
       "      <th>...</th>\n",
       "      <td>...</td>\n",
       "      <td>...</td>\n",
       "      <td>...</td>\n",
       "      <td>...</td>\n",
       "      <td>...</td>\n",
       "    </tr>\n",
       "    <tr>\n",
       "      <th>27815</th>\n",
       "      <td>28028</td>\n",
       "      <td>1</td>\n",
       "      <td>1</td>\n",
       "      <td>0</td>\n",
       "      <td>0</td>\n",
       "    </tr>\n",
       "    <tr>\n",
       "      <th>27816</th>\n",
       "      <td>28029</td>\n",
       "      <td>1</td>\n",
       "      <td>1</td>\n",
       "      <td>0</td>\n",
       "      <td>0</td>\n",
       "    </tr>\n",
       "    <tr>\n",
       "      <th>27817</th>\n",
       "      <td>28030</td>\n",
       "      <td>3</td>\n",
       "      <td>3</td>\n",
       "      <td>0</td>\n",
       "      <td>0</td>\n",
       "    </tr>\n",
       "    <tr>\n",
       "      <th>27818</th>\n",
       "      <td>28031</td>\n",
       "      <td>1</td>\n",
       "      <td>1</td>\n",
       "      <td>0</td>\n",
       "      <td>0</td>\n",
       "    </tr>\n",
       "    <tr>\n",
       "      <th>27819</th>\n",
       "      <td>28032</td>\n",
       "      <td>1</td>\n",
       "      <td>1</td>\n",
       "      <td>0</td>\n",
       "      <td>0</td>\n",
       "    </tr>\n",
       "  </tbody>\n",
       "</table>\n",
       "<p>27820 rows × 5 columns</p>\n",
       "</div>"
      ],
      "text/plain": [
       "       visitorid  num_items_viewed  view_count  bought_count  purchased\n",
       "0              0                 3           3             0          0\n",
       "1              1                 1           1             0          0\n",
       "2              2                 4           8             0          0\n",
       "3              3                 1           1             0          0\n",
       "4              4                 1           1             0          0\n",
       "...          ...               ...         ...           ...        ...\n",
       "27815      28028                 1           1             0          0\n",
       "27816      28029                 1           1             0          0\n",
       "27817      28030                 3           3             0          0\n",
       "27818      28031                 1           1             0          0\n",
       "27819      28032                 1           1             0          0\n",
       "\n",
       "[27820 rows x 5 columns]"
      ]
     },
     "execution_count": 40,
     "metadata": {},
     "output_type": "execute_result"
    }
   ],
   "source": [
    "viewing_visitors_df = create_dataframe(viewing_visitors_list[0:27820])\n",
    "viewing_visitors_df"
   ]
  },
  {
   "cell_type": "code",
   "execution_count": 41,
   "metadata": {},
   "outputs": [
    {
     "data": {
      "text/html": [
       "<div>\n",
       "<style scoped>\n",
       "    .dataframe tbody tr th:only-of-type {\n",
       "        vertical-align: middle;\n",
       "    }\n",
       "\n",
       "    .dataframe tbody tr th {\n",
       "        vertical-align: top;\n",
       "    }\n",
       "\n",
       "    .dataframe thead th {\n",
       "        text-align: right;\n",
       "    }\n",
       "</style>\n",
       "<table border=\"1\" class=\"dataframe\">\n",
       "  <thead>\n",
       "    <tr style=\"text-align: right;\">\n",
       "      <th></th>\n",
       "      <th>visitorid</th>\n",
       "      <th>num_items_viewed</th>\n",
       "      <th>view_count</th>\n",
       "      <th>bought_count</th>\n",
       "      <th>purchased</th>\n",
       "    </tr>\n",
       "  </thead>\n",
       "  <tbody>\n",
       "    <tr>\n",
       "      <th>0</th>\n",
       "      <td>172</td>\n",
       "      <td>22</td>\n",
       "      <td>33</td>\n",
       "      <td>2</td>\n",
       "      <td>1</td>\n",
       "    </tr>\n",
       "    <tr>\n",
       "      <th>1</th>\n",
       "      <td>186</td>\n",
       "      <td>1</td>\n",
       "      <td>2</td>\n",
       "      <td>1</td>\n",
       "      <td>1</td>\n",
       "    </tr>\n",
       "    <tr>\n",
       "      <th>2</th>\n",
       "      <td>264</td>\n",
       "      <td>2</td>\n",
       "      <td>3</td>\n",
       "      <td>2</td>\n",
       "      <td>1</td>\n",
       "    </tr>\n",
       "    <tr>\n",
       "      <th>3</th>\n",
       "      <td>419</td>\n",
       "      <td>3</td>\n",
       "      <td>4</td>\n",
       "      <td>1</td>\n",
       "      <td>1</td>\n",
       "    </tr>\n",
       "    <tr>\n",
       "      <th>4</th>\n",
       "      <td>539</td>\n",
       "      <td>1</td>\n",
       "      <td>4</td>\n",
       "      <td>1</td>\n",
       "      <td>1</td>\n",
       "    </tr>\n",
       "    <tr>\n",
       "      <th>...</th>\n",
       "      <td>...</td>\n",
       "      <td>...</td>\n",
       "      <td>...</td>\n",
       "      <td>...</td>\n",
       "      <td>...</td>\n",
       "    </tr>\n",
       "    <tr>\n",
       "      <th>11714</th>\n",
       "      <td>1406787</td>\n",
       "      <td>3</td>\n",
       "      <td>20</td>\n",
       "      <td>1</td>\n",
       "      <td>1</td>\n",
       "    </tr>\n",
       "    <tr>\n",
       "      <th>11715</th>\n",
       "      <td>1406981</td>\n",
       "      <td>4</td>\n",
       "      <td>4</td>\n",
       "      <td>1</td>\n",
       "      <td>1</td>\n",
       "    </tr>\n",
       "    <tr>\n",
       "      <th>11716</th>\n",
       "      <td>1407070</td>\n",
       "      <td>1</td>\n",
       "      <td>1</td>\n",
       "      <td>1</td>\n",
       "      <td>1</td>\n",
       "    </tr>\n",
       "    <tr>\n",
       "      <th>11717</th>\n",
       "      <td>1407110</td>\n",
       "      <td>2</td>\n",
       "      <td>7</td>\n",
       "      <td>1</td>\n",
       "      <td>1</td>\n",
       "    </tr>\n",
       "    <tr>\n",
       "      <th>11718</th>\n",
       "      <td>1407398</td>\n",
       "      <td>0</td>\n",
       "      <td>0</td>\n",
       "      <td>1</td>\n",
       "      <td>1</td>\n",
       "    </tr>\n",
       "  </tbody>\n",
       "</table>\n",
       "<p>11719 rows × 5 columns</p>\n",
       "</div>"
      ],
      "text/plain": [
       "       visitorid  num_items_viewed  view_count  bought_count  purchased\n",
       "0            172                22          33             2          1\n",
       "1            186                 1           2             1          1\n",
       "2            264                 2           3             2          1\n",
       "3            419                 3           4             1          1\n",
       "4            539                 1           4             1          1\n",
       "...          ...               ...         ...           ...        ...\n",
       "11714    1406787                 3          20             1          1\n",
       "11715    1406981                 4           4             1          1\n",
       "11716    1407070                 1           1             1          1\n",
       "11717    1407110                 2           7             1          1\n",
       "11718    1407398                 0           0             1          1\n",
       "\n",
       "[11719 rows x 5 columns]"
      ]
     },
     "execution_count": 41,
     "metadata": {},
     "output_type": "execute_result"
    }
   ],
   "source": [
    "buying_visitors_df"
   ]
  },
  {
   "cell_type": "code",
   "execution_count": 42,
   "metadata": {},
   "outputs": [],
   "source": [
    "final_df = pd.concat([viewing_visitors_df,buying_visitors_df],ignore_index= True)"
   ]
  },
  {
   "cell_type": "code",
   "execution_count": 43,
   "metadata": {},
   "outputs": [
    {
     "name": "stderr",
     "output_type": "stream",
     "text": [
      "/home/prince_singh/anaconda3/lib/python3.8/site-packages/seaborn/distributions.py:306: UserWarning: Dataset has 0 variance; skipping density estimate.\n",
      "  warnings.warn(msg, UserWarning)\n"
     ]
    },
    {
     "data": {
      "text/plain": [
       "<seaborn.axisgrid.PairGrid at 0x7f11344e4670>"
      ]
     },
     "execution_count": 43,
     "metadata": {},
     "output_type": "execute_result"
    },
    {
     "data": {
      "image/png": "[encoded data removed]",
      "text/plain": [
       "<Figure size 780.25x720 with 20 Axes>"
      ]
     },
     "metadata": {
      "needs_background": "light"
     },
     "output_type": "display_data"
    }
   ],
   "source": [
    "sns.pairplot(final_df,hue= 'purchased')"
   ]
  },
  {
   "cell_type": "code",
   "execution_count": 44,
   "metadata": {},
   "outputs": [
    {
     "data": {
      "text/html": [
       "<div>\n",
       "<style scoped>\n",
       "    .dataframe tbody tr th:only-of-type {\n",
       "        vertical-align: middle;\n",
       "    }\n",
       "\n",
       "    .dataframe tbody tr th {\n",
       "        vertical-align: top;\n",
       "    }\n",
       "\n",
       "    .dataframe thead th {\n",
       "        text-align: right;\n",
       "    }\n",
       "</style>\n",
       "<table border=\"1\" class=\"dataframe\">\n",
       "  <thead>\n",
       "    <tr style=\"text-align: right;\">\n",
       "      <th></th>\n",
       "      <th>visitorid</th>\n",
       "      <th>num_items_viewed</th>\n",
       "      <th>view_count</th>\n",
       "      <th>bought_count</th>\n",
       "      <th>purchased</th>\n",
       "    </tr>\n",
       "  </thead>\n",
       "  <tbody>\n",
       "    <tr>\n",
       "      <th>0</th>\n",
       "      <td>0</td>\n",
       "      <td>3</td>\n",
       "      <td>3</td>\n",
       "      <td>0</td>\n",
       "      <td>0</td>\n",
       "    </tr>\n",
       "    <tr>\n",
       "      <th>1</th>\n",
       "      <td>1</td>\n",
       "      <td>1</td>\n",
       "      <td>1</td>\n",
       "      <td>0</td>\n",
       "      <td>0</td>\n",
       "    </tr>\n",
       "    <tr>\n",
       "      <th>2</th>\n",
       "      <td>2</td>\n",
       "      <td>4</td>\n",
       "      <td>8</td>\n",
       "      <td>0</td>\n",
       "      <td>0</td>\n",
       "    </tr>\n",
       "    <tr>\n",
       "      <th>3</th>\n",
       "      <td>3</td>\n",
       "      <td>1</td>\n",
       "      <td>1</td>\n",
       "      <td>0</td>\n",
       "      <td>0</td>\n",
       "    </tr>\n",
       "    <tr>\n",
       "      <th>4</th>\n",
       "      <td>4</td>\n",
       "      <td>1</td>\n",
       "      <td>1</td>\n",
       "      <td>0</td>\n",
       "      <td>0</td>\n",
       "    </tr>\n",
       "  </tbody>\n",
       "</table>\n",
       "</div>"
      ],
      "text/plain": [
       "   visitorid  num_items_viewed  view_count  bought_count  purchased\n",
       "0          0                 3           3             0          0\n",
       "1          1                 1           1             0          0\n",
       "2          2                 4           8             0          0\n",
       "3          3                 1           1             0          0\n",
       "4          4                 1           1             0          0"
      ]
     },
     "execution_count": 44,
     "metadata": {},
     "output_type": "execute_result"
    }
   ],
   "source": [
    "final_df.head()"
   ]
  },
  {
   "cell_type": "code",
   "execution_count": 45,
   "metadata": {},
   "outputs": [
    {
     "data": {
      "text/plain": [
       "visitorid           1407398\n",
       "num_items_viewed          0\n",
       "view_count                0\n",
       "bought_count              1\n",
       "purchased                 1\n",
       "Name: 39538, dtype: int64"
      ]
     },
     "execution_count": 45,
     "metadata": {},
     "output_type": "execute_result"
    }
   ],
   "source": [
    "final_df.iloc[-1]"
   ]
  },
  {
   "cell_type": "code",
   "execution_count": 46,
   "metadata": {},
   "outputs": [],
   "source": [
    "X = final_df.drop(columns = ['purchased', 'visitorid', 'bought_count'])\n",
    "y = final_df.purchased\n"
   ]
  },
  {
   "cell_type": "code",
   "execution_count": 47,
   "metadata": {},
   "outputs": [
    {
     "data": {
      "text/html": [
       "<div>\n",
       "<style scoped>\n",
       "    .dataframe tbody tr th:only-of-type {\n",
       "        vertical-align: middle;\n",
       "    }\n",
       "\n",
       "    .dataframe tbody tr th {\n",
       "        vertical-align: top;\n",
       "    }\n",
       "\n",
       "    .dataframe thead th {\n",
       "        text-align: right;\n",
       "    }\n",
       "</style>\n",
       "<table border=\"1\" class=\"dataframe\">\n",
       "  <thead>\n",
       "    <tr style=\"text-align: right;\">\n",
       "      <th></th>\n",
       "      <th>num_items_viewed</th>\n",
       "      <th>view_count</th>\n",
       "    </tr>\n",
       "  </thead>\n",
       "  <tbody>\n",
       "    <tr>\n",
       "      <th>0</th>\n",
       "      <td>3</td>\n",
       "      <td>3</td>\n",
       "    </tr>\n",
       "    <tr>\n",
       "      <th>1</th>\n",
       "      <td>1</td>\n",
       "      <td>1</td>\n",
       "    </tr>\n",
       "    <tr>\n",
       "      <th>2</th>\n",
       "      <td>4</td>\n",
       "      <td>8</td>\n",
       "    </tr>\n",
       "    <tr>\n",
       "      <th>3</th>\n",
       "      <td>1</td>\n",
       "      <td>1</td>\n",
       "    </tr>\n",
       "    <tr>\n",
       "      <th>4</th>\n",
       "      <td>1</td>\n",
       "      <td>1</td>\n",
       "    </tr>\n",
       "  </tbody>\n",
       "</table>\n",
       "</div>"
      ],
      "text/plain": [
       "   num_items_viewed  view_count\n",
       "0                 3           3\n",
       "1                 1           1\n",
       "2                 4           8\n",
       "3                 1           1\n",
       "4                 1           1"
      ]
     },
     "execution_count": 47,
     "metadata": {},
     "output_type": "execute_result"
    }
   ],
   "source": [
    "X.head()"
   ]
  },
  {
   "cell_type": "code",
   "execution_count": 48,
   "metadata": {},
   "outputs": [
    {
     "data": {
      "text/plain": [
       "0        0\n",
       "1        0\n",
       "2        0\n",
       "3        0\n",
       "4        0\n",
       "        ..\n",
       "39534    1\n",
       "39535    1\n",
       "39536    1\n",
       "39537    1\n",
       "39538    1\n",
       "Name: purchased, Length: 39539, dtype: int64"
      ]
     },
     "execution_count": 48,
     "metadata": {},
     "output_type": "execute_result"
    }
   ],
   "source": [
    "y"
   ]
  },
  {
   "cell_type": "code",
   "execution_count": 49,
   "metadata": {},
   "outputs": [],
   "source": [
    "from sklearn.model_selection import train_test_split"
   ]
  },
  {
   "cell_type": "code",
   "execution_count": 50,
   "metadata": {},
   "outputs": [],
   "source": [
    "X_train,X_test,y_train,y_test = train_test_split(X,y, test_size =0.3,random_state=42)"
   ]
  },
  {
   "cell_type": "code",
   "execution_count": 51,
   "metadata": {},
   "outputs": [],
   "source": [
    "from sklearn.linear_model import LogisticRegression\n",
    "from sklearn import metrics"
   ]
  },
  {
   "cell_type": "code",
   "execution_count": 52,
   "metadata": {},
   "outputs": [],
   "source": [
    "logreg =LogisticRegression()\n"
   ]
  },
  {
   "cell_type": "code",
   "execution_count": 53,
   "metadata": {},
   "outputs": [
    {
     "data": {
      "text/plain": [
       "LogisticRegression()"
      ]
     },
     "execution_count": 53,
     "metadata": {},
     "output_type": "execute_result"
    }
   ],
   "source": [
    "logreg.fit(X_train,y_train)"
   ]
  },
  {
   "cell_type": "code",
   "execution_count": 54,
   "metadata": {},
   "outputs": [],
   "source": [
    "predictions = logreg.predict(X_test)"
   ]
  },
  {
   "cell_type": "code",
   "execution_count": 55,
   "metadata": {},
   "outputs": [
    {
     "name": "stdout",
     "output_type": "stream",
     "text": [
      "ROOT MEAN SQUARED ERROR: 0.45205091006527653\n"
     ]
    }
   ],
   "source": [
    "mse = metrics.mean_squared_error(predictions,y_test)\n",
    "rmse = np.sqrt(mse)\n",
    "print('ROOT MEAN SQUARED ERROR: {}'.format(rmse))"
   ]
  },
  {
   "cell_type": "code",
   "execution_count": 56,
   "metadata": {},
   "outputs": [
    {
     "data": {
      "text/plain": [
       "0.7956499747091553"
      ]
     },
     "execution_count": 56,
     "metadata": {},
     "output_type": "execute_result"
    }
   ],
   "source": [
    "metrics.accuracy_score(y_test, predictions)"
   ]
  },
  {
   "cell_type": "markdown",
   "metadata": {},
   "source": [
    "# model (logreg), gives 79.56% correct predictions"
   ]
  },
  {
   "cell_type": "code",
   "execution_count": 57,
   "metadata": {},
   "outputs": [
    {
     "data": {
      "text/plain": [
       "0.7956499747091553"
      ]
     },
     "execution_count": 57,
     "metadata": {},
     "output_type": "execute_result"
    }
   ],
   "source": [
    "logreg.score(X_test, y_test)"
   ]
  },
  {
   "cell_type": "code",
   "execution_count": 58,
   "metadata": {},
   "outputs": [
    {
     "data": {
      "text/plain": [
       "array([0, 0, 0, ..., 1, 0, 1])"
      ]
     },
     "execution_count": 58,
     "metadata": {},
     "output_type": "execute_result"
    }
   ],
   "source": [
    "predictions"
   ]
  },
  {
   "cell_type": "code",
   "execution_count": 59,
   "metadata": {},
   "outputs": [
    {
     "data": {
      "text/html": [
       "<div>\n",
       "<style scoped>\n",
       "    .dataframe tbody tr th:only-of-type {\n",
       "        vertical-align: middle;\n",
       "    }\n",
       "\n",
       "    .dataframe tbody tr th {\n",
       "        vertical-align: top;\n",
       "    }\n",
       "\n",
       "    .dataframe thead th {\n",
       "        text-align: right;\n",
       "    }\n",
       "</style>\n",
       "<table border=\"1\" class=\"dataframe\">\n",
       "  <thead>\n",
       "    <tr style=\"text-align: right;\">\n",
       "      <th></th>\n",
       "      <th>num_items_viewed</th>\n",
       "      <th>view_count</th>\n",
       "    </tr>\n",
       "  </thead>\n",
       "  <tbody>\n",
       "    <tr>\n",
       "      <th>25423</th>\n",
       "      <td>1</td>\n",
       "      <td>1</td>\n",
       "    </tr>\n",
       "    <tr>\n",
       "      <th>7672</th>\n",
       "      <td>3</td>\n",
       "      <td>3</td>\n",
       "    </tr>\n",
       "    <tr>\n",
       "      <th>33858</th>\n",
       "      <td>1</td>\n",
       "      <td>3</td>\n",
       "    </tr>\n",
       "    <tr>\n",
       "      <th>8156</th>\n",
       "      <td>1</td>\n",
       "      <td>1</td>\n",
       "    </tr>\n",
       "    <tr>\n",
       "      <th>5179</th>\n",
       "      <td>1</td>\n",
       "      <td>1</td>\n",
       "    </tr>\n",
       "    <tr>\n",
       "      <th>...</th>\n",
       "      <td>...</td>\n",
       "      <td>...</td>\n",
       "    </tr>\n",
       "    <tr>\n",
       "      <th>32244</th>\n",
       "      <td>3</td>\n",
       "      <td>6</td>\n",
       "    </tr>\n",
       "    <tr>\n",
       "      <th>1302</th>\n",
       "      <td>2</td>\n",
       "      <td>2</td>\n",
       "    </tr>\n",
       "    <tr>\n",
       "      <th>38271</th>\n",
       "      <td>11</td>\n",
       "      <td>17</td>\n",
       "    </tr>\n",
       "    <tr>\n",
       "      <th>4964</th>\n",
       "      <td>1</td>\n",
       "      <td>1</td>\n",
       "    </tr>\n",
       "    <tr>\n",
       "      <th>29786</th>\n",
       "      <td>4</td>\n",
       "      <td>16</td>\n",
       "    </tr>\n",
       "  </tbody>\n",
       "</table>\n",
       "<p>11862 rows × 2 columns</p>\n",
       "</div>"
      ],
      "text/plain": [
       "       num_items_viewed  view_count\n",
       "25423                 1           1\n",
       "7672                  3           3\n",
       "33858                 1           3\n",
       "8156                  1           1\n",
       "5179                  1           1\n",
       "...                 ...         ...\n",
       "32244                 3           6\n",
       "1302                  2           2\n",
       "38271                11          17\n",
       "4964                  1           1\n",
       "29786                 4          16\n",
       "\n",
       "[11862 rows x 2 columns]"
      ]
     },
     "execution_count": 59,
     "metadata": {},
     "output_type": "execute_result"
    }
   ],
   "source": [
    "X_test"
   ]
  },
  {
   "cell_type": "code",
   "execution_count": 64,
   "metadata": {},
   "outputs": [],
   "source": [
    "\n",
    "new_test= pd.DataFrame( columns=['num_items_viewed','view_count'])\n",
    "new_test.loc[0] = [2, 1]"
   ]
  },
  {
   "cell_type": "code",
   "execution_count": 65,
   "metadata": {},
   "outputs": [
    {
     "data": {
      "text/plain": [
       "array([0])"
      ]
     },
     "execution_count": 65,
     "metadata": {},
     "output_type": "execute_result"
    }
   ],
   "source": [
    "logreg.predict(new_test)"
   ]
  },
  {
   "cell_type": "code",
   "execution_count": null,
   "metadata": {},
   "outputs": [],
   "source": []
  }
 ],
 "metadata": {
  "kernelspec": {
   "display_name": "Python 3",
   "language": "python",
   "name": "python3"
  },
  "language_info": {
   "codemirror_mode": {
    "name": "ipython",
    "version": 3
   },
   "file_extension": ".py",
   "mimetype": "text/x-python",
   "name": "python",
   "nbconvert_exporter": "python",
   "pygments_lexer": "ipython3",
   "version": "3.8.5"
  }
 },
 "nbformat": 4,
 "nbformat_minor": 4
}
